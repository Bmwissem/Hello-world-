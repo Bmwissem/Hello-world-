{
  "nbformat": 4,
  "nbformat_minor": 0,
  "metadata": {
    "colab": {
      "name": "texture_classification",
      "version": "0.3.2",
      "provenance": [],
      "collapsed_sections": [],
      "include_colab_link": true
    },
    "kernelspec": {
      "name": "python3",
      "display_name": "Python 3"
    }
  },
  "cells": [
    {
      "cell_type": "markdown",
      "metadata": {
        "id": "view-in-github",
        "colab_type": "text"
      },
      "source": [
        "<a href=\"https://colab.research.google.com/github/Bmwissem/Hello-world-/blob/master/texture_classification.ipynb\" target=\"_parent\"><img src=\"https://colab.research.google.com/assets/colab-badge.svg\" alt=\"Open In Colab\"/></a>"
      ]
    },
    {
      "cell_type": "code",
      "metadata": {
        "id": "FiZMQCn72lNh",
        "colab_type": "code",
        "outputId": "2165895b-c55c-49ea-8cc8-b07d8133629c",
        "colab": {
          "base_uri": "https://localhost:8080/",
          "height": 129
        }
      },
      "source": [
        "# import the necessary packages\n",
        "from keras.models import Sequential\n",
        "from keras.layers.normalization import BatchNormalization\n",
        "from keras.layers.convolutional import Conv2D\n",
        "from keras.layers.convolutional import MaxPooling2D\n",
        "from keras.layers.core import Activation\n",
        "from keras.layers.core import Flatten\n",
        "from keras.layers.core import Dropout\n",
        "from keras.layers.core import Dense\n",
        "from keras import backend as K\n",
        "from keras.optimizers import Adam\n",
        "from keras.utils import to_categorical\n",
        " from sklearn.metrics import confusion_matrix\n",
        "import matplotlib\n",
        "matplotlib.use(\"Agg\")\n",
        "\n",
        "from sklearn.metrics import  classification_report\n",
        "\n",
        "from os import listdir\n",
        "from numpy import array\n",
        "import tensorflow as tf\n",
        "import os\n",
        "\n",
        "from sklearn.preprocessing import LabelEncoder\n",
        "from sklearn.preprocessing import OneHotEncoder\n",
        "\n",
        "import cv2\n",
        "import numpy as np\n",
        "import cv2\n",
        "import pandas as pd\n",
        "import matplotlib.pyplot as plt\n",
        "import seaborn as sns\n",
        "\n",
        "import torch\n",
        "import torch.nn as nn\n",
        "import torch.nn.functional as F\n",
        "import torch.optim as optim\n",
        "from torch.autograd import Variable\n",
        "from sklearn.preprocessing import LabelBinarizer\n",
        "\n",
        "%matplotlib inline"
      ],
      "execution_count": 0,
      "outputs": [
        {
          "output_type": "error",
          "ename": "IndentationError",
          "evalue": "ignored",
          "traceback": [
            "\u001b[0;36m  File \u001b[0;32m\"<ipython-input-70-6c8a206b6fdf>\"\u001b[0;36m, line \u001b[0;32m12\u001b[0m\n\u001b[0;31m    from sklearn.metrics import confusion_matrix\u001b[0m\n\u001b[0m    ^\u001b[0m\n\u001b[0;31mIndentationError\u001b[0m\u001b[0;31m:\u001b[0m unexpected indent\n"
          ]
        }
      ]
    },
    {
      "cell_type": "markdown",
      "metadata": {
        "id": "NresNzFF1B7s",
        "colab_type": "text"
      },
      "source": [
        "# **Mounting the data from the drive**"
      ]
    },
    {
      "cell_type": "code",
      "metadata": {
        "id": "iRfmkB6ZHm9_",
        "colab_type": "code",
        "outputId": "51daf1b5-e0c8-42d1-a77e-215e74ddf044",
        "colab": {
          "base_uri": "https://localhost:8080/",
          "height": 122
        }
      },
      "source": [
        "from google.colab import drive, files\n",
        "drive.mount('/content/drive/')\n",
        "  "
      ],
      "execution_count": 0,
      "outputs": [
        {
          "output_type": "stream",
          "text": [
            "Go to this URL in a browser: https://accounts.google.com/o/oauth2/auth?client_id=947318989803-6bn6qk8qdgf4n4g3pfee6491hc0brc4i.apps.googleusercontent.com&redirect_uri=urn%3Aietf%3Awg%3Aoauth%3A2.0%3Aoob&scope=email%20https%3A%2F%2Fwww.googleapis.com%2Fauth%2Fdocs.test%20https%3A%2F%2Fwww.googleapis.com%2Fauth%2Fdrive%20https%3A%2F%2Fwww.googleapis.com%2Fauth%2Fdrive.photos.readonly%20https%3A%2F%2Fwww.googleapis.com%2Fauth%2Fpeopleapi.readonly&response_type=code\n",
            "\n",
            "Enter your authorization code:\n",
            "··········\n",
            "Mounted at /content/drive/\n"
          ],
          "name": "stdout"
        }
      ]
    },
    {
      "cell_type": "markdown",
      "metadata": {
        "id": "5KyafqCC1J7f",
        "colab_type": "text"
      },
      "source": [
        "# **Loading the training and test data**"
      ]
    },
    {
      "cell_type": "code",
      "metadata": {
        "id": "f8GU7SB07IRh",
        "colab_type": "code",
        "outputId": "b747b113-e5b6-4524-bb4c-62a6eb287a58",
        "colab": {
          "base_uri": "https://localhost:8080/",
          "height": 34
        }
      },
      "source": [
        "\n",
        "drive.mount('/content/drive/')\n",
        "\n",
        "train_path =(\"/content/drive/My Drive/Colab Notebooks/Outex-CT-00011/train_/\")\n",
        "test_path= (\"/content/drive/My Drive/Colab Notebooks/Outex-CT-00011/test_/\")\n",
        "train_labels_path=(\"/content/drive/My Drive/Colab Notebooks/Outex-CT-00011/train_label.csv\")\n",
        "train_file =os.listdir(train_path)\n",
        "test_file = os.listdir(test_path)\n"
      ],
      "execution_count": 0,
      "outputs": [
        {
          "output_type": "stream",
          "text": [
            "Drive already mounted at /content/drive/; to attempt to forcibly remount, call drive.mount(\"/content/drive/\", force_remount=True).\n"
          ],
          "name": "stdout"
        }
      ]
    },
    {
      "cell_type": "markdown",
      "metadata": {
        "id": "_urRIUL_1I2V",
        "colab_type": "text"
      },
      "source": [
        ""
      ]
    },
    {
      "cell_type": "markdown",
      "metadata": {
        "id": "W7gWuwGUuzt3",
        "colab_type": "text"
      },
      "source": [
        "# **Load the training data**"
      ]
    },
    {
      "cell_type": "code",
      "metadata": {
        "id": "zbxEswYDkA4a",
        "colab_type": "code",
        "colab": {}
      },
      "source": [
        "import csv\n",
        "\n",
        "with open('/content/drive/My Drive/Colab Notebooks/Outex-CT-00011/train_labels.csv') as csvfile:\n",
        "    readCSV = csv.reader(csvfile, delimiter=';')\n",
        "    labels = []\n",
        "    \n",
        "    for row in readCSV:\n",
        "       \n",
        "        \n",
        "\n",
        "        labels.append(row)\n",
        "      \n",
        "\n",
        "    print(labels)\n",
        " \n"
      ],
      "execution_count": 0,
      "outputs": []
    },
    {
      "cell_type": "code",
      "metadata": {
        "id": "Yla4NTDz0aY2",
        "colab_type": "code",
        "colab": {}
      },
      "source": [
        "files= []\n",
        "\n",
        "\n",
        "for file in train_file:\n",
        "    \n",
        "        files.append(train_path + file)\n",
        "        #labels.append(file.split('.')[-2])\n",
        "        \n",
        "print(files)"
      ],
      "execution_count": 0,
      "outputs": []
    },
    {
      "cell_type": "markdown",
      "metadata": {
        "id": "wko0Ihn72NpY",
        "colab_type": "text"
      },
      "source": [
        "# **Reading the data **"
      ]
    },
    {
      "cell_type": "code",
      "metadata": {
        "id": "oyrRab0XOTpp",
        "colab_type": "code",
        "outputId": "d9b8a087-99f2-42a3-ca34-dfc8a3942422",
        "colab": {
          "base_uri": "https://localhost:8080/",
          "height": 34
        }
      },
      "source": [
        "\n",
        "data = []\n",
        "for file in files:\n",
        "    image = cv2.imread(file)\n",
        "    image = np.rollaxis(image, 2, 2)\n",
        "    data.append(image)\n",
        "    \n",
        "data = np.array(data)\n",
        "print(data.shape)\n",
        "#print(data)"
      ],
      "execution_count": 0,
      "outputs": [
        {
          "output_type": "stream",
          "text": [
            "(480, 128, 128, 3)\n"
          ],
          "name": "stdout"
        }
      ]
    },
    {
      "cell_type": "markdown",
      "metadata": {
        "id": "zupOWohL1mH8",
        "colab_type": "text"
      },
      "source": [
        "# **Model creation **"
      ]
    },
    {
      "cell_type": "code",
      "metadata": {
        "id": "fYs-wvPKlMSz",
        "colab_type": "code",
        "outputId": "c34534f6-b236-4265-8580-6347e34b6b71",
        "colab": {
          "base_uri": "https://localhost:8080/",
          "height": 54
        }
      },
      "source": [
        "data = np.array(data, dtype=\"float\") / 255.0\n",
        "\n",
        "labels = np.array(labels)\n",
        "from itertools import chain\n",
        "labels=list(chain.from_iterable(labels))\n",
        "\n",
        "#labels.flatten()\n",
        "print(labels)\n"
      ],
      "execution_count": 0,
      "outputs": [
        {
          "output_type": "stream",
          "text": [
            "[\"'canvas001'\", \"'canvas001'\", \"'canvas001'\", \"'canvas001'\", \"'canvas001'\", \"'canvas001'\", \"'canvas001'\", \"'canvas001'\", \"'canvas001'\", \"'canvas001'\", \"'canvas001'\", \"'canvas001'\", \"'canvas001'\", \"'canvas001'\", \"'canvas001'\", \"'canvas001'\", \"'canvas001'\", \"'canvas001'\", \"'canvas001'\", \"'canvas001'\", \"'canvas002'\", \"'canvas002'\", \"'canvas002'\", \"'canvas002'\", \"'canvas002'\", \"'canvas002'\", \"'canvas002'\", \"'canvas002'\", \"'canvas002'\", \"'canvas002'\", \"'canvas002'\", \"'canvas002'\", \"'canvas002'\", \"'canvas002'\", \"'canvas002'\", \"'canvas002'\", \"'canvas002'\", \"'canvas002'\", \"'canvas002'\", \"'canvas002'\", \"'canvas003'\", \"'canvas003'\", \"'canvas003'\", \"'canvas003'\", \"'canvas003'\", \"'canvas003'\", \"'canvas003'\", \"'canvas003'\", \"'canvas003'\", \"'canvas003'\", \"'canvas003'\", \"'canvas003'\", \"'canvas003'\", \"'canvas003'\", \"'canvas003'\", \"'canvas003'\", \"'canvas003'\", \"'canvas003'\", \"'canvas003'\", \"'canvas003'\", \"'canvas005'\", \"'canvas005'\", \"'canvas005'\", \"'canvas005'\", \"'canvas005'\", \"'canvas005'\", \"'canvas005'\", \"'canvas005'\", \"'canvas005'\", \"'canvas005'\", \"'canvas005'\", \"'canvas005'\", \"'canvas005'\", \"'canvas005'\", \"'canvas005'\", \"'canvas005'\", \"'canvas005'\", \"'canvas005'\", \"'canvas005'\", \"'canvas005'\", \"'canvas006'\", \"'canvas006'\", \"'canvas006'\", \"'canvas006'\", \"'canvas006'\", \"'canvas006'\", \"'canvas006'\", \"'canvas006'\", \"'canvas006'\", \"'canvas006'\", \"'canvas006'\", \"'canvas006'\", \"'canvas006'\", \"'canvas006'\", \"'canvas006'\", \"'canvas006'\", \"'canvas006'\", \"'canvas006'\", \"'canvas006'\", \"'canvas006'\", \"'canvas009'\", \"'canvas009'\", \"'canvas009'\", \"'canvas009'\", \"'canvas009'\", \"'canvas009'\", \"'canvas009'\", \"'canvas009'\", \"'canvas009'\", \"'canvas009'\", \"'canvas009'\", \"'canvas009'\", \"'canvas009'\", \"'canvas009'\", \"'canvas009'\", \"'canvas009'\", \"'canvas009'\", \"'canvas009'\", \"'canvas009'\", \"'canvas009'\", \"'canvas011'\", \"'canvas011'\", \"'canvas011'\", \"'canvas011'\", \"'canvas011'\", \"'canvas011'\", \"'canvas011'\", \"'canvas011'\", \"'canvas011'\", \"'canvas011'\", \"'canvas011'\", \"'canvas011'\", \"'canvas011'\", \"'canvas011'\", \"'canvas011'\", \"'canvas011'\", \"'canvas011'\", \"'canvas011'\", \"'canvas011'\", \"'canvas011'\", \"'canvas021'\", \"'canvas021'\", \"'canvas021'\", \"'canvas021'\", \"'canvas021'\", \"'canvas021'\", \"'canvas021'\", \"'canvas021'\", \"'canvas021'\", \"'canvas021'\", \"'canvas021'\", \"'canvas021'\", \"'canvas021'\", \"'canvas021'\", \"'canvas021'\", \"'canvas021'\", \"'canvas021'\", \"'canvas021'\", \"'canvas021'\", \"'canvas021'\", \"'canvas022'\", \"'canvas022'\", \"'canvas022'\", \"'canvas022'\", \"'canvas022'\", \"'canvas022'\", \"'canvas022'\", \"'canvas022'\", \"'canvas022'\", \"'canvas022'\", \"'canvas022'\", \"'canvas022'\", \"'canvas022'\", \"'canvas022'\", \"'canvas022'\", \"'canvas022'\", \"'canvas022'\", \"'canvas022'\", \"'canvas022'\", \"'canvas022'\", \"'canvas023'\", \"'canvas023'\", \"'canvas023'\", \"'canvas023'\", \"'canvas023'\", \"'canvas023'\", \"'canvas023'\", \"'canvas023'\", \"'canvas023'\", \"'canvas023'\", \"'canvas023'\", \"'canvas023'\", \"'canvas023'\", \"'canvas023'\", \"'canvas023'\", \"'canvas023'\", \"'canvas023'\", \"'canvas023'\", \"'canvas023'\", \"'canvas023'\", \"'canvas025'\", \"'canvas025'\", \"'canvas025'\", \"'canvas025'\", \"'canvas025'\", \"'canvas025'\", \"'canvas025'\", \"'canvas025'\", \"'canvas025'\", \"'canvas025'\", \"'canvas025'\", \"'canvas025'\", \"'canvas025'\", \"'canvas025'\", \"'canvas025'\", \"'canvas025'\", \"'canvas025'\", \"'canvas025'\", \"'canvas025'\", \"'canvas025'\", \"'canvas026'\", \"'canvas026'\", \"'canvas026'\", \"'canvas026'\", \"'canvas026'\", \"'canvas026'\", \"'canvas026'\", \"'canvas026'\", \"'canvas026'\", \"'canvas026'\", \"'canvas026'\", \"'canvas026'\", \"'canvas026'\", \"'canvas026'\", \"'canvas026'\", \"'canvas026'\", \"'canvas026'\", \"'canvas026'\", \"'canvas026'\", \"'canvas026'\", \"'canvas031'\", \"'canvas031'\", \"'canvas031'\", \"'canvas031'\", \"'canvas031'\", \"'canvas031'\", \"'canvas031'\", \"'canvas031'\", \"'canvas031'\", \"'canvas031'\", \"'canvas031'\", \"'canvas031'\", \"'canvas031'\", \"'canvas031'\", \"'canvas031'\", \"'canvas031'\", \"'canvas031'\", \"'canvas031'\", \"'canvas031'\", \"'canvas031'\", \"'canvas032'\", \"'canvas032'\", \"'canvas032'\", \"'canvas032'\", \"'canvas032'\", \"'canvas032'\", \"'canvas032'\", \"'canvas032'\", \"'canvas032'\", \"'canvas032'\", \"'canvas032'\", \"'canvas032'\", \"'canvas032'\", \"'canvas032'\", \"'canvas032'\", \"'canvas032'\", \"'canvas032'\", \"'canvas032'\", \"'canvas032'\", \"'canvas032'\", \"'canvas033'\", \"'canvas033'\", \"'canvas033'\", \"'canvas033'\", \"'canvas033'\", \"'canvas033'\", \"'canvas033'\", \"'canvas033'\", \"'canvas033'\", \"'canvas033'\", \"'canvas033'\", \"'canvas033'\", \"'canvas033'\", \"'canvas033'\", \"'canvas033'\", \"'canvas033'\", \"'canvas033'\", \"'canvas033'\", \"'canvas033'\", \"'canvas033'\", \"'canvas035'\", \"'canvas035'\", \"'canvas035'\", \"'canvas035'\", \"'canvas035'\", \"'canvas035'\", \"'canvas035'\", \"'canvas035'\", \"'canvas035'\", \"'canvas035'\", \"'canvas035'\", \"'canvas035'\", \"'canvas035'\", \"'canvas035'\", \"'canvas035'\", \"'canvas035'\", \"'canvas035'\", \"'canvas035'\", \"'canvas035'\", \"'canvas035'\", \"'canvas038'\", \"'canvas038'\", \"'canvas038'\", \"'canvas038'\", \"'canvas038'\", \"'canvas038'\", \"'canvas038'\", \"'canvas038'\", \"'canvas038'\", \"'canvas038'\", \"'canvas038'\", \"'canvas038'\", \"'canvas038'\", \"'canvas038'\", \"'canvas038'\", \"'canvas038'\", \"'canvas038'\", \"'canvas038'\", \"'canvas038'\", \"'canvas038'\", \"'canvas039'\", \"'canvas039'\", \"'canvas039'\", \"'canvas039'\", \"'canvas039'\", \"'canvas039'\", \"'canvas039'\", \"'canvas039'\", \"'canvas039'\", \"'canvas039'\", \"'canvas039'\", \"'canvas039'\", \"'canvas039'\", \"'canvas039'\", \"'canvas039'\", \"'canvas039'\", \"'canvas039'\", \"'canvas039'\", \"'canvas039'\", \"'canvas039'\", \"'carpet002'\", \"'carpet002'\", \"'carpet002'\", \"'carpet002'\", \"'carpet002'\", \"'carpet002'\", \"'carpet002'\", \"'carpet002'\", \"'carpet002'\", \"'carpet002'\", \"'carpet002'\", \"'carpet002'\", \"'carpet002'\", \"'carpet002'\", \"'carpet002'\", \"'carpet002'\", \"'carpet002'\", \"'carpet002'\", \"'carpet002'\", \"'carpet002'\", \"'carpet004'\", \"'carpet004'\", \"'carpet004'\", \"'carpet004'\", \"'carpet004'\", \"'carpet004'\", \"'carpet004'\", \"'carpet004'\", \"'carpet004'\", \"'carpet004'\", \"'carpet004'\", \"'carpet004'\", \"'carpet004'\", \"'carpet004'\", \"'carpet004'\", \"'carpet004'\", \"'carpet004'\", \"'carpet004'\", \"'carpet004'\", \"'carpet004'\", \"'carpet005'\", \"'carpet005'\", \"'carpet005'\", \"'carpet005'\", \"'carpet005'\", \"'carpet005'\", \"'carpet005'\", \"'carpet005'\", \"'carpet005'\", \"'carpet005'\", \"'carpet005'\", \"'carpet005'\", \"'carpet005'\", \"'carpet005'\", \"'carpet005'\", \"'carpet005'\", \"'carpet005'\", \"'carpet005'\", \"'carpet005'\", \"'carpet005'\", \"'carpet009'\", \"'carpet009'\", \"'carpet009'\", \"'carpet009'\", \"'carpet009'\", \"'carpet009'\", \"'carpet009'\", \"'carpet009'\", \"'carpet009'\", \"'carpet009'\", \"'carpet009'\", \"'carpet009'\", \"'carpet009'\", \"'carpet009'\", \"'carpet009'\", \"'carpet009'\", \"'carpet009'\", \"'carpet009'\", \"'carpet009'\", \"'carpet009'\", \"'tile005'\", \"'tile005'\", \"'tile005'\", \"'tile005'\", \"'tile005'\", \"'tile005'\", \"'tile005'\", \"'tile005'\", \"'tile005'\", \"'tile005'\", \"'tile005'\", \"'tile005'\", \"'tile005'\", \"'tile005'\", \"'tile005'\", \"'tile005'\", \"'tile005'\", \"'tile005'\", \"'tile005'\", \"'tile005'\", \"'tile006'\", \"'tile006'\", \"'tile006'\", \"'tile006'\", \"'tile006'\", \"'tile006'\", \"'tile006'\", \"'tile006'\", \"'tile006'\", \"'tile006'\", \"'tile006'\", \"'tile006'\", \"'tile006'\", \"'tile006'\", \"'tile006'\", \"'tile006'\", \"'tile006'\", \"'tile006'\", \"'tile006'\", \"'tile006'\"]\n"
          ],
          "name": "stdout"
        }
      ]
    },
    {
      "cell_type": "markdown",
      "metadata": {
        "id": "UiC-r9ygy18A",
        "colab_type": "text"
      },
      "source": [
        "# Labels_encoding "
      ]
    },
    {
      "cell_type": "code",
      "metadata": {
        "id": "HseItnQn_ioa",
        "colab_type": "code",
        "outputId": "1a113504-361c-4e33-a865-4a8d736cf51b",
        "colab": {
          "base_uri": "https://localhost:8080/",
          "height": 374
        }
      },
      "source": [
        "label_encoder = LabelEncoder()\n",
        "values = array(labels)\n",
        "labels= label_encoder.fit_transform(values)\n",
        "#labels = np_utils.to_categorical(labels, 2)\n",
        "print(\"Labels encoding :\\n \",labels)"
      ],
      "execution_count": 0,
      "outputs": [
        {
          "output_type": "stream",
          "text": [
            "Labels encoding :\n",
            "  [ 0  0  0  0  0  0  0  0  0  0  0  0  0  0  0  0  0  0  0  0  1  1  1  1\n",
            "  1  1  1  1  1  1  1  1  1  1  1  1  1  1  1  1  2  2  2  2  2  2  2  2\n",
            "  2  2  2  2  2  2  2  2  2  2  2  2  3  3  3  3  3  3  3  3  3  3  3  3\n",
            "  3  3  3  3  3  3  3  3  4  4  4  4  4  4  4  4  4  4  4  4  4  4  4  4\n",
            "  4  4  4  4  5  5  5  5  5  5  5  5  5  5  5  5  5  5  5  5  5  5  5  5\n",
            "  6  6  6  6  6  6  6  6  6  6  6  6  6  6  6  6  6  6  6  6  7  7  7  7\n",
            "  7  7  7  7  7  7  7  7  7  7  7  7  7  7  7  7  8  8  8  8  8  8  8  8\n",
            "  8  8  8  8  8  8  8  8  8  8  8  8  9  9  9  9  9  9  9  9  9  9  9  9\n",
            "  9  9  9  9  9  9  9  9 10 10 10 10 10 10 10 10 10 10 10 10 10 10 10 10\n",
            " 10 10 10 10 11 11 11 11 11 11 11 11 11 11 11 11 11 11 11 11 11 11 11 11\n",
            " 12 12 12 12 12 12 12 12 12 12 12 12 12 12 12 12 12 12 12 12 13 13 13 13\n",
            " 13 13 13 13 13 13 13 13 13 13 13 13 13 13 13 13 14 14 14 14 14 14 14 14\n",
            " 14 14 14 14 14 14 14 14 14 14 14 14 15 15 15 15 15 15 15 15 15 15 15 15\n",
            " 15 15 15 15 15 15 15 15 16 16 16 16 16 16 16 16 16 16 16 16 16 16 16 16\n",
            " 16 16 16 16 17 17 17 17 17 17 17 17 17 17 17 17 17 17 17 17 17 17 17 17\n",
            " 18 18 18 18 18 18 18 18 18 18 18 18 18 18 18 18 18 18 18 18 19 19 19 19\n",
            " 19 19 19 19 19 19 19 19 19 19 19 19 19 19 19 19 20 20 20 20 20 20 20 20\n",
            " 20 20 20 20 20 20 20 20 20 20 20 20 21 21 21 21 21 21 21 21 21 21 21 21\n",
            " 21 21 21 21 21 21 21 21 22 22 22 22 22 22 22 22 22 22 22 22 22 22 22 22\n",
            " 22 22 22 22 23 23 23 23 23 23 23 23 23 23 23 23 23 23 23 23 23 23 23 23]\n"
          ],
          "name": "stdout"
        }
      ]
    },
    {
      "cell_type": "code",
      "metadata": {
        "id": "oK9HW6Zl2_Cq",
        "colab_type": "code",
        "outputId": "284820b9-1656-48ed-af2d-09e691111fb8",
        "colab": {
          "base_uri": "https://localhost:8080/",
          "height": 34
        }
      },
      "source": [
        "\n",
        "labels = np.array(labels)\n",
        "labels=labels.flatten()\n",
        "\n",
        "print(len(labels))\n"
      ],
      "execution_count": 0,
      "outputs": [
        {
          "output_type": "stream",
          "text": [
            "480\n"
          ],
          "name": "stdout"
        }
      ]
    },
    {
      "cell_type": "markdown",
      "metadata": {
        "id": "tApJSGW9tyWS",
        "colab_type": "text"
      },
      "source": [
        "# **Test_data preparation**"
      ]
    },
    {
      "cell_type": "code",
      "metadata": {
        "id": "0Dfg-p-g0YaI",
        "colab_type": "code",
        "colab": {}
      },
      "source": [
        "import csv\n",
        "\n",
        "with open('/content/drive/My Drive/Colab Notebooks/Outex-CT-00011/test_classes.csv') as csvfile:\n",
        "    readCSV = csv.reader(csvfile, delimiter=';')\n",
        "    test_labels = []\n",
        "    for row in readCSV:\n",
        "        \n",
        "        test_labels.append(row)\n",
        "        \n",
        "    print(test_labels)\n",
        "    "
      ],
      "execution_count": 0,
      "outputs": []
    },
    {
      "cell_type": "code",
      "metadata": {
        "id": "FrNCvwZzuztI",
        "colab_type": "code",
        "colab": {}
      },
      "source": [
        "files_test= []\n",
        "\n",
        "for file in test_file:\n",
        "    \n",
        "        files_test.append(test_path + file)\n",
        "        \n",
        "print(files_test)"
      ],
      "execution_count": 0,
      "outputs": []
    },
    {
      "cell_type": "code",
      "metadata": {
        "id": "xwGz890Syn3D",
        "colab_type": "code",
        "colab": {}
      },
      "source": [
        "test_data = []\n",
        "for file in files_test:\n",
        "    image = cv2.imread(file)\n",
        "   \n",
        "    image = np.rollaxis(image, 2, 2)\n",
        "    test_data.append(image)\n",
        "    \n",
        "test_data = np.array(test_data)\n",
        "#print(test_data)\n",
        "#print(data)"
      ],
      "execution_count": 0,
      "outputs": []
    },
    {
      "cell_type": "code",
      "metadata": {
        "id": "urg4JBrKxof5",
        "colab_type": "code",
        "colab": {}
      },
      "source": [
        "test_data = np.array(test_data, dtype=\"float\") / 255.0\n",
        "\n",
        "test_labels = np.array(test_labels)\n",
        "from itertools import chain\n",
        "test_labels=list(chain.from_iterable(test_labels))\n",
        "\n",
        "#labels.flatten()\n",
        "print(test_labels)"
      ],
      "execution_count": 0,
      "outputs": []
    },
    {
      "cell_type": "code",
      "metadata": {
        "id": "OE9cX3cKO8VW",
        "colab_type": "code",
        "colab": {}
      },
      "source": [
        "label_encoder = LabelEncoder()\n",
        "values = array(test_labels)\n",
        "test_labels= label_encoder.fit_transform(values)\n",
        "#labels = np_utils.to_categorical(labels, 2)\n",
        "print(test_labels)"
      ],
      "execution_count": 0,
      "outputs": []
    },
    {
      "cell_type": "code",
      "metadata": {
        "id": "6t6amD0V056p",
        "colab_type": "code",
        "outputId": "67acd9d0-b1e7-41f0-a098-786ee41ec1b9",
        "colab": {
          "base_uri": "https://localhost:8080/",
          "height": 357
        }
      },
      "source": [
        "test_labels = np.array(test_labels)\n",
        "test_labels=test_labels.flatten()\n",
        "print(test_labels)\n"
      ],
      "execution_count": 0,
      "outputs": [
        {
          "output_type": "stream",
          "text": [
            "[ 0  0  0  0  0  0  0  0  0  0  0  0  0  0  0  0  0  0  0  0  1  1  1  1\n",
            "  1  1  1  1  1  1  1  1  1  1  1  1  1  1  1  1  2  2  2  2  2  2  2  2\n",
            "  2  2  2  2  2  2  2  2  2  2  2  2  3  3  3  3  3  3  3  3  3  3  3  3\n",
            "  3  3  3  3  3  3  3  3  4  4  4  4  4  4  4  4  4  4  4  4  4  4  4  4\n",
            "  4  4  4  4  5  5  5  5  5  5  5  5  5  5  5  5  5  5  5  5  5  5  5  5\n",
            "  6  6  6  6  6  6  6  6  6  6  6  6  6  6  6  6  6  6  6  6  7  7  7  7\n",
            "  7  7  7  7  7  7  7  7  7  7  7  7  7  7  7  7  8  8  8  8  8  8  8  8\n",
            "  8  8  8  8  8  8  8  8  8  8  8  8  9  9  9  9  9  9  9  9  9  9  9  9\n",
            "  9  9  9  9  9  9  9  9 10 10 10 10 10 10 10 10 10 10 10 10 10 10 10 10\n",
            " 10 10 10 10 11 11 11 11 11 11 11 11 11 11 11 11 11 11 11 11 11 11 11 11\n",
            " 12 12 12 12 12 12 12 12 12 12 12 12 12 12 12 12 12 12 12 12 13 13 13 13\n",
            " 13 13 13 13 13 13 13 13 13 13 13 13 13 13 13 13 14 14 14 14 14 14 14 14\n",
            " 14 14 14 14 14 14 14 14 14 14 14 14 15 15 15 15 15 15 15 15 15 15 15 15\n",
            " 15 15 15 15 15 15 15 15 16 16 16 16 16 16 16 16 16 16 16 16 16 16 16 16\n",
            " 16 16 16 16 17 17 17 17 17 17 17 17 17 17 17 17 17 17 17 17 17 17 17 17\n",
            " 18 18 18 18 18 18 18 18 18 18 18 18 18 18 18 18 18 18 18 18 19 19 19 19\n",
            " 19 19 19 19 19 19 19 19 19 19 19 19 19 19 19 19 20 20 20 20 20 20 20 20\n",
            " 20 20 20 20 20 20 20 20 20 20 20 20 21 21 21 21 21 21 21 21 21 21 21 21\n",
            " 21 21 21 21 21 21 21 21 22 22 22 22 22 22 22 22 22 22 22 22 22 22 22 22\n",
            " 22 22 22 22 23 23 23 23 23 23 23 23 23 23 23 23 23 23 23 23 23 23 23 23]\n"
          ],
          "name": "stdout"
        }
      ]
    },
    {
      "cell_type": "markdown",
      "metadata": {
        "id": "TlJ4_h8642Zm",
        "colab_type": "text"
      },
      "source": [
        "# Training with Model_02"
      ]
    },
    {
      "cell_type": "code",
      "metadata": {
        "id": "wHeLJd_GS1Mn",
        "colab_type": "code",
        "colab": {}
      },
      "source": [
        "#Hyper_parameters\n",
        "INIT_LR = 1e-4\n",
        "BS = 32\n",
        "EPOCHS =50\n"
      ],
      "execution_count": 0,
      "outputs": []
    },
    {
      "cell_type": "code",
      "metadata": {
        "id": "glccPKFGoVpZ",
        "colab_type": "code",
        "outputId": "c4a31fcf-323e-4553-a0bf-224878ce1763",
        "colab": {
          "base_uri": "https://localhost:8080/",
          "height": 935
        }
      },
      "source": [
        "def build():\n",
        "\t\t# Model_initialization\n",
        "\t\tmodel = Sequential()\n",
        "\n",
        "\t\t# first CONV => RELU => CONV => RELU => POOL layer set\n",
        "\t\tmodel.add(Conv2D(16, (3, 3), padding=\"same\",\n",
        "\t\t\tinput_shape=(128,128,3)))\n",
        "\t\tmodel.add(Activation(\"relu\"))\n",
        "\t\tmodel.add(BatchNormalization(axis=-1))\n",
        "\t\tmodel.add(Conv2D(16, (3, 3), padding=\"same\"))\n",
        "\t\tmodel.add(Activation(\"relu\"))\n",
        "\t\tmodel.add(BatchNormalization(axis=-1))\n",
        "\t\tmodel.add(MaxPooling2D(pool_size=(2, 2)))\n",
        "\t\tmodel.add(Dropout(0.25))\n",
        "\n",
        "\t\t# second CONV => RELU => CONV => RELU => POOL layer set\n",
        "\t\tmodel.add(Conv2D(32, (3, 3), padding=\"same\"))\n",
        "\t\tmodel.add(Activation(\"relu\"))\n",
        "\t\tmodel.add(BatchNormalization(axis=-1))\n",
        "\t\tmodel.add(Conv2D(32, (3, 3), padding=\"same\"))\n",
        "\t\tmodel.add(Activation(\"relu\"))\n",
        "\t\tmodel.add(BatchNormalization(axis=-1))\n",
        "\t\tmodel.add(MaxPooling2D(pool_size=(2, 2)))\n",
        "\t\tmodel.add(Dropout(0.25))\n",
        "\n",
        "\t\t# first (and only) set of FC => RELU layers\n",
        "\t\tmodel.add(Flatten())\n",
        "\t\tmodel.add(Dense(64))\n",
        "\t\tmodel.add(Activation(\"relu\"))\n",
        "\t\tmodel.add(BatchNormalization())\n",
        "\t\tmodel.add(Dropout(0.5))\n",
        "\n",
        "\t\t# softmax classifier\n",
        "\t\tmodel.add(Dense(24))\n",
        "\t\tmodel.add(Activation(\"softmax\"))\n",
        "\n",
        "\t\t# return the constructed network architecture\n",
        "    \n",
        "\t\treturn model\n",
        "  \n",
        "   \n",
        "model = build()\n",
        "print(model.summary())"
      ],
      "execution_count": 0,
      "outputs": [
        {
          "output_type": "stream",
          "text": [
            "_________________________________________________________________\n",
            "Layer (type)                 Output Shape              Param #   \n",
            "=================================================================\n",
            "conv2d_25 (Conv2D)           (None, 128, 128, 16)      448       \n",
            "_________________________________________________________________\n",
            "activation_37 (Activation)   (None, 128, 128, 16)      0         \n",
            "_________________________________________________________________\n",
            "batch_normalization_31 (Batc (None, 128, 128, 16)      64        \n",
            "_________________________________________________________________\n",
            "conv2d_26 (Conv2D)           (None, 128, 128, 16)      2320      \n",
            "_________________________________________________________________\n",
            "activation_38 (Activation)   (None, 128, 128, 16)      0         \n",
            "_________________________________________________________________\n",
            "batch_normalization_32 (Batc (None, 128, 128, 16)      64        \n",
            "_________________________________________________________________\n",
            "max_pooling2d_13 (MaxPooling (None, 64, 64, 16)        0         \n",
            "_________________________________________________________________\n",
            "dropout_19 (Dropout)         (None, 64, 64, 16)        0         \n",
            "_________________________________________________________________\n",
            "conv2d_27 (Conv2D)           (None, 64, 64, 32)        4640      \n",
            "_________________________________________________________________\n",
            "activation_39 (Activation)   (None, 64, 64, 32)        0         \n",
            "_________________________________________________________________\n",
            "batch_normalization_33 (Batc (None, 64, 64, 32)        128       \n",
            "_________________________________________________________________\n",
            "conv2d_28 (Conv2D)           (None, 64, 64, 32)        9248      \n",
            "_________________________________________________________________\n",
            "activation_40 (Activation)   (None, 64, 64, 32)        0         \n",
            "_________________________________________________________________\n",
            "batch_normalization_34 (Batc (None, 64, 64, 32)        128       \n",
            "_________________________________________________________________\n",
            "max_pooling2d_14 (MaxPooling (None, 32, 32, 32)        0         \n",
            "_________________________________________________________________\n",
            "dropout_20 (Dropout)         (None, 32, 32, 32)        0         \n",
            "_________________________________________________________________\n",
            "flatten_7 (Flatten)          (None, 32768)             0         \n",
            "_________________________________________________________________\n",
            "dense_13 (Dense)             (None, 64)                2097216   \n",
            "_________________________________________________________________\n",
            "activation_41 (Activation)   (None, 64)                0         \n",
            "_________________________________________________________________\n",
            "batch_normalization_35 (Batc (None, 64)                256       \n",
            "_________________________________________________________________\n",
            "dropout_21 (Dropout)         (None, 64)                0         \n",
            "_________________________________________________________________\n",
            "dense_14 (Dense)             (None, 24)                1560      \n",
            "_________________________________________________________________\n",
            "activation_42 (Activation)   (None, 24)                0         \n",
            "=================================================================\n",
            "Total params: 2,116,072\n",
            "Trainable params: 2,115,752\n",
            "Non-trainable params: 320\n",
            "_________________________________________________________________\n",
            "None\n"
          ],
          "name": "stdout"
        }
      ]
    },
    {
      "cell_type": "code",
      "metadata": {
        "id": "FAixTKTgQHPV",
        "colab_type": "code",
        "colab": {}
      },
      "source": [
        "opt = Adam(lr=INIT_LR, decay=INIT_LR / EPOCHS)\n",
        "model.compile(loss=\"sparse_categorical_crossentropy\", optimizer=opt,\n",
        "\tmetrics=[\"accuracy\"])\n"
      ],
      "execution_count": 0,
      "outputs": []
    },
    {
      "cell_type": "code",
      "metadata": {
        "id": "v-VXr5_yTR19",
        "colab_type": "code",
        "outputId": "f615336d-37f1-4c24-8313-ffbcd6a229bd",
        "colab": {
          "base_uri": "https://localhost:8080/",
          "height": 1000
        }
      },
      "source": [
        "H=model.fit(data, labels,  validation_data=(test_data, test_labels),batch_size=BS, epochs=EPOCHS,shuffle=True)\n",
        "\n"
      ],
      "execution_count": 0,
      "outputs": [
        {
          "output_type": "stream",
          "text": [
            "Train on 480 samples, validate on 480 samples\n",
            "Epoch 1/50\n",
            "480/480 [==============================] - 36s 75ms/step - loss: 3.2530 - acc: 0.1521 - val_loss: 2.2420 - val_acc: 0.2771\n",
            "Epoch 2/50\n",
            "480/480 [==============================] - 34s 70ms/step - loss: 2.4972 - acc: 0.2292 - val_loss: 2.0996 - val_acc: 0.3042\n",
            "Epoch 3/50\n",
            "480/480 [==============================] - 34s 71ms/step - loss: 2.1986 - acc: 0.3250 - val_loss: 2.0319 - val_acc: 0.3500\n",
            "Epoch 4/50\n",
            "480/480 [==============================] - 34s 71ms/step - loss: 2.0578 - acc: 0.3625 - val_loss: 2.0148 - val_acc: 0.3479\n",
            "Epoch 5/50\n",
            "480/480 [==============================] - 34s 71ms/step - loss: 1.9495 - acc: 0.3625 - val_loss: 2.0749 - val_acc: 0.3979\n",
            "Epoch 6/50\n",
            "480/480 [==============================] - 34s 70ms/step - loss: 1.7217 - acc: 0.4854 - val_loss: 2.0390 - val_acc: 0.3979\n",
            "Epoch 7/50\n",
            "480/480 [==============================] - 34s 70ms/step - loss: 1.5794 - acc: 0.5542 - val_loss: 2.0584 - val_acc: 0.3646\n",
            "Epoch 8/50\n",
            "480/480 [==============================] - 34s 71ms/step - loss: 1.3753 - acc: 0.5854 - val_loss: 1.9434 - val_acc: 0.3729\n",
            "Epoch 9/50\n",
            "480/480 [==============================] - 34s 71ms/step - loss: 1.2270 - acc: 0.6542 - val_loss: 1.9522 - val_acc: 0.3667\n",
            "Epoch 10/50\n",
            "480/480 [==============================] - 34s 71ms/step - loss: 1.2638 - acc: 0.6396 - val_loss: 1.9881 - val_acc: 0.3708\n",
            "Epoch 11/50\n",
            "480/480 [==============================] - 34s 71ms/step - loss: 1.1298 - acc: 0.7042 - val_loss: 2.0516 - val_acc: 0.3979\n",
            "Epoch 12/50\n",
            "480/480 [==============================] - 34s 71ms/step - loss: 1.0068 - acc: 0.7500 - val_loss: 1.9981 - val_acc: 0.3812\n",
            "Epoch 13/50\n",
            "480/480 [==============================] - 34s 70ms/step - loss: 0.9789 - acc: 0.7604 - val_loss: 1.9202 - val_acc: 0.3979\n",
            "Epoch 14/50\n",
            "480/480 [==============================] - 34s 70ms/step - loss: 0.9521 - acc: 0.7667 - val_loss: 1.7659 - val_acc: 0.4750\n",
            "Epoch 15/50\n",
            "480/480 [==============================] - 34s 70ms/step - loss: 0.8704 - acc: 0.7958 - val_loss: 1.8609 - val_acc: 0.4292\n",
            "Epoch 16/50\n",
            "480/480 [==============================] - 34s 70ms/step - loss: 0.7554 - acc: 0.8354 - val_loss: 2.1093 - val_acc: 0.4208\n",
            "Epoch 17/50\n",
            "480/480 [==============================] - 34s 70ms/step - loss: 0.7978 - acc: 0.8187 - val_loss: 2.2198 - val_acc: 0.3937\n",
            "Epoch 18/50\n",
            "480/480 [==============================] - 34s 70ms/step - loss: 0.7724 - acc: 0.8208 - val_loss: 2.0820 - val_acc: 0.4562\n",
            "Epoch 19/50\n",
            "480/480 [==============================] - 34s 71ms/step - loss: 0.6887 - acc: 0.8375 - val_loss: 2.0809 - val_acc: 0.4583\n",
            "Epoch 20/50\n",
            "480/480 [==============================] - 34s 71ms/step - loss: 0.7016 - acc: 0.8729 - val_loss: 1.9815 - val_acc: 0.4313\n",
            "Epoch 21/50\n",
            "480/480 [==============================] - 34s 70ms/step - loss: 0.6280 - acc: 0.8854 - val_loss: 1.9947 - val_acc: 0.4292\n",
            "Epoch 22/50\n",
            "480/480 [==============================] - 34s 70ms/step - loss: 0.6757 - acc: 0.8542 - val_loss: 2.1417 - val_acc: 0.4167\n",
            "Epoch 23/50\n",
            "480/480 [==============================] - 34s 70ms/step - loss: 0.5993 - acc: 0.8958 - val_loss: 1.9740 - val_acc: 0.4313\n",
            "Epoch 24/50\n",
            "480/480 [==============================] - 34s 70ms/step - loss: 0.5037 - acc: 0.9229 - val_loss: 1.6003 - val_acc: 0.5396\n",
            "Epoch 25/50\n",
            "480/480 [==============================] - 34s 71ms/step - loss: 0.5835 - acc: 0.8896 - val_loss: 1.6681 - val_acc: 0.5000\n",
            "Epoch 26/50\n",
            "480/480 [==============================] - 34s 71ms/step - loss: 0.5376 - acc: 0.9042 - val_loss: 1.6052 - val_acc: 0.5458\n",
            "Epoch 27/50\n",
            "480/480 [==============================] - 34s 71ms/step - loss: 0.4687 - acc: 0.9437 - val_loss: 1.5944 - val_acc: 0.5417\n",
            "Epoch 28/50\n",
            "480/480 [==============================] - 34s 71ms/step - loss: 0.4720 - acc: 0.9229 - val_loss: 1.7310 - val_acc: 0.4979\n",
            "Epoch 29/50\n",
            "480/480 [==============================] - 34s 71ms/step - loss: 0.4839 - acc: 0.9333 - val_loss: 1.6416 - val_acc: 0.5458\n",
            "Epoch 30/50\n",
            "480/480 [==============================] - 34s 70ms/step - loss: 0.4689 - acc: 0.9229 - val_loss: 1.8067 - val_acc: 0.4896\n",
            "Epoch 31/50\n",
            "480/480 [==============================] - 34s 70ms/step - loss: 0.4655 - acc: 0.9292 - val_loss: 1.7516 - val_acc: 0.4958\n",
            "Epoch 32/50\n",
            "480/480 [==============================] - 34s 70ms/step - loss: 0.4019 - acc: 0.9458 - val_loss: 1.5657 - val_acc: 0.5625\n",
            "Epoch 33/50\n",
            "480/480 [==============================] - 34s 70ms/step - loss: 0.4623 - acc: 0.9229 - val_loss: 1.5275 - val_acc: 0.5583\n",
            "Epoch 34/50\n",
            "480/480 [==============================] - 34s 71ms/step - loss: 0.3979 - acc: 0.9437 - val_loss: 1.4970 - val_acc: 0.5792\n",
            "Epoch 35/50\n",
            "480/480 [==============================] - 34s 71ms/step - loss: 0.3744 - acc: 0.9667 - val_loss: 1.5449 - val_acc: 0.5437\n",
            "Epoch 36/50\n",
            "480/480 [==============================] - 34s 70ms/step - loss: 0.3604 - acc: 0.9542 - val_loss: 1.6083 - val_acc: 0.5250\n",
            "Epoch 37/50\n",
            "480/480 [==============================] - 34s 70ms/step - loss: 0.3304 - acc: 0.9646 - val_loss: 1.5889 - val_acc: 0.5354\n",
            "Epoch 38/50\n",
            "480/480 [==============================] - 34s 70ms/step - loss: 0.3646 - acc: 0.9437 - val_loss: 1.6379 - val_acc: 0.5354\n",
            "Epoch 39/50\n",
            "480/480 [==============================] - 34s 71ms/step - loss: 0.3188 - acc: 0.9667 - val_loss: 1.5664 - val_acc: 0.5625\n",
            "Epoch 40/50\n",
            "480/480 [==============================] - 34s 72ms/step - loss: 0.3071 - acc: 0.9708 - val_loss: 1.5035 - val_acc: 0.5875\n",
            "Epoch 41/50\n",
            "480/480 [==============================] - 34s 72ms/step - loss: 0.3413 - acc: 0.9542 - val_loss: 1.5991 - val_acc: 0.5437\n",
            "Epoch 42/50\n",
            "480/480 [==============================] - 34s 72ms/step - loss: 0.3110 - acc: 0.9708 - val_loss: 1.5447 - val_acc: 0.5604\n",
            "Epoch 43/50\n",
            "480/480 [==============================] - 34s 72ms/step - loss: 0.3367 - acc: 0.9667 - val_loss: 1.4875 - val_acc: 0.5813\n",
            "Epoch 44/50\n",
            "480/480 [==============================] - 34s 70ms/step - loss: 0.2829 - acc: 0.9833 - val_loss: 1.4299 - val_acc: 0.6000\n",
            "Epoch 45/50\n",
            "480/480 [==============================] - 34s 70ms/step - loss: 0.2781 - acc: 0.9812 - val_loss: 1.4142 - val_acc: 0.6062\n",
            "Epoch 46/50\n",
            "480/480 [==============================] - 34s 70ms/step - loss: 0.2936 - acc: 0.9792 - val_loss: 1.4445 - val_acc: 0.6125\n",
            "Epoch 47/50\n",
            "480/480 [==============================] - 34s 70ms/step - loss: 0.2712 - acc: 0.9771 - val_loss: 1.5060 - val_acc: 0.5604\n",
            "Epoch 48/50\n",
            "480/480 [==============================] - 34s 70ms/step - loss: 0.2824 - acc: 0.9708 - val_loss: 1.4537 - val_acc: 0.5896\n",
            "Epoch 49/50\n",
            "480/480 [==============================] - 34s 71ms/step - loss: 0.2556 - acc: 0.9833 - val_loss: 1.4979 - val_acc: 0.5708\n",
            "Epoch 50/50\n",
            "480/480 [==============================] - 34s 70ms/step - loss: 0.2431 - acc: 0.9917 - val_loss: 1.4747 - val_acc: 0.5938\n"
          ],
          "name": "stdout"
        }
      ]
    },
    {
      "cell_type": "markdown",
      "metadata": {
        "id": "Qy9-Uz9B57gM",
        "colab_type": "text"
      },
      "source": [
        "# **Prediction and_ testing_Phase**"
      ]
    },
    {
      "cell_type": "code",
      "metadata": {
        "id": "-PP5gs7dS-Iy",
        "colab_type": "code",
        "outputId": "cbbd89b6-e9a5-48fc-e7b9-209e8e982401",
        "colab": {
          "base_uri": "https://localhost:8080/",
          "height": 51
        }
      },
      "source": [
        "'  evaluate method to test the model!'''\n",
        "test_loss, test_acc = model.evaluate(test_data, test_labels) \n",
        "\n",
        "print('Test accuracy:', test_acc)\n"
      ],
      "execution_count": 0,
      "outputs": [
        {
          "output_type": "stream",
          "text": [
            "480/480 [==============================] - 8s 16ms/step\n",
            "Test accuracy: 0.59375\n"
          ],
          "name": "stdout"
        }
      ]
    },
    {
      "cell_type": "code",
      "metadata": {
        "id": "kEwvjQWSxV5I",
        "colab_type": "code",
        "colab": {}
      },
      "source": [
        "predictions =model.predict(test_data)"
      ],
      "execution_count": 0,
      "outputs": []
    },
    {
      "cell_type": "code",
      "metadata": {
        "id": "FJRuBbH8xkry",
        "colab_type": "code",
        "outputId": "5a9555b9-b41a-448e-bdaa-e9b8ae6af296",
        "colab": {
          "base_uri": "https://localhost:8080/",
          "height": 102
        }
      },
      "source": [
        "predictions[0]"
      ],
      "execution_count": 0,
      "outputs": [
        {
          "output_type": "execute_result",
          "data": {
            "text/plain": [
              "array([0.63710946, 0.02453381, 0.03019132, 0.12500986, 0.03018584,\n",
              "       0.00806795, 0.0068627 , 0.00778532, 0.00875983, 0.00174189,\n",
              "       0.00394022, 0.00524384, 0.00478678, 0.00369793, 0.00655612,\n",
              "       0.02417384, 0.00219795, 0.00119877, 0.01189756, 0.00140523,\n",
              "       0.01699542, 0.00169874, 0.00466856, 0.03129102], dtype=float32)"
            ]
          },
          "metadata": {
            "tags": []
          },
          "execution_count": 106
        }
      ]
    },
    {
      "cell_type": "code",
      "metadata": {
        "id": "yrr2k7EhxoBh",
        "colab_type": "code",
        "outputId": "7cde4bdb-2e01-465d-9e83-34951e5a1c9e",
        "colab": {
          "base_uri": "https://localhost:8080/",
          "height": 34
        }
      },
      "source": [
        "np.argmax(predictions[0])"
      ],
      "execution_count": 0,
      "outputs": [
        {
          "output_type": "execute_result",
          "data": {
            "text/plain": [
              "0"
            ]
          },
          "metadata": {
            "tags": []
          },
          "execution_count": 107
        }
      ]
    },
    {
      "cell_type": "code",
      "metadata": {
        "id": "-oNWXLFwxvt_",
        "colab_type": "code",
        "outputId": "e68bb89e-16d5-441e-c91c-b32b851cbeb8",
        "colab": {
          "base_uri": "https://localhost:8080/",
          "height": 34
        }
      },
      "source": [
        "test_labels[0]"
      ],
      "execution_count": 0,
      "outputs": [
        {
          "output_type": "execute_result",
          "data": {
            "text/plain": [
              "0"
            ]
          },
          "metadata": {
            "tags": []
          },
          "execution_count": 108
        }
      ]
    },
    {
      "cell_type": "code",
      "metadata": {
        "id": "3iZKkqkNyBCj",
        "colab_type": "code",
        "colab": {}
      },
      "source": [
        "def plot_image(i, predictions_array, test_labels, img):\n",
        "  predictions_array, test_labels, img = predictions_array[i], test_labels[i], img[i]\n",
        "  plt.grid(False)\n",
        "  plt.xticks([])\n",
        "  plt.yticks([])\n",
        "  \n",
        "  plt.imshow(np.squeeze(img), cmap=plt.cm.binary)\n",
        "\n",
        "  predicted_label = np.argmax(predictions_array)\n",
        "  if predicted_label == test_labels:\n",
        "    color = 'blue'\n",
        "  else:\n",
        "    color = 'red'\n",
        "  \n",
        "  plt.xlabel(\"{} {:2.0f}% ({})\".format(predicted_label,\n",
        "                                100*np.max(predictions_array),\n",
        "                                test_labels),\n",
        "                                color=color)\n",
        "\n",
        "def plot_value_array(i, predictions_array, test_labels):\n",
        "  predictions_array, test_labels = predictions_array[i], test_labels[i]\n",
        "  plt.grid(False)\n",
        "  plt.xticks([])\n",
        "  plt.yticks([])\n",
        "  thisplot = plt.bar(range(10), predictions_array, color=\"#777777\")\n",
        "  plt.ylim([0, 1]) \n",
        "  predicted_label = np.argmax(predictions_array)\n",
        " \n",
        "  thisplot[predicted_label].set_color('red')\n",
        "  thisplot[test_labels].set_color('blue')"
      ],
      "execution_count": 0,
      "outputs": []
    },
    {
      "cell_type": "code",
      "metadata": {
        "id": "aGse5vtryJ-C",
        "colab_type": "code",
        "colab": {}
      },
      "source": [
        "image_index = 45 \n",
        "plt.subplot(1,2,1)\n",
        "plot_image(image_index, predictions, test_labels, test_data)\n",
        "plt.subplot(1,2,2)\n",
        "plot_value_array(image_index, predictions,  test_labels)"
      ],
      "execution_count": 0,
      "outputs": []
    },
    {
      "cell_type": "code",
      "metadata": {
        "id": "grEYLlMf0Icr",
        "colab_type": "code",
        "colab": {}
      },
      "source": [
        "labels_data= ['canvas001','canvas002','canvas003','canvas005','canvas006','canvas009',\n",
        "               'canvas011','canvas021','canvas022','canvas023','canvas025','canvas026','canvas031',\n",
        "               'canvas032','canvas033','canvas035','canvas038','canvas039','carpet002','carpet004',\n",
        "               'carpet004','carpet005','carpet009','tile005','tile006']\n"
      ],
      "execution_count": 0,
      "outputs": []
    },
    {
      "cell_type": "code",
      "metadata": {
        "id": "r4JZH5mZxXD7",
        "colab_type": "code",
        "outputId": "52cac03c-7065-43d3-ce7e-c1721cf29dbd",
        "colab": {
          "base_uri": "https://localhost:8080/",
          "height": 598
        }
      },
      "source": [
        "\n",
        "print(classification_report(test_labels,predictions.argmax(axis=-1)))\n",
        "\n"
      ],
      "execution_count": 0,
      "outputs": [
        {
          "output_type": "stream",
          "text": [
            "              precision    recall  f1-score   support\n",
            "\n",
            "           0       0.56      0.95      0.70        20\n",
            "           1       0.95      1.00      0.98        20\n",
            "           2       0.82      0.90      0.86        20\n",
            "           3       0.00      0.00      0.00        20\n",
            "           4       0.77      1.00      0.87        20\n",
            "           5       1.00      1.00      1.00        20\n",
            "           6       0.33      0.15      0.21        20\n",
            "           7       0.24      0.25      0.24        20\n",
            "           8       0.58      0.35      0.44        20\n",
            "           9       0.67      0.50      0.57        20\n",
            "          10       0.55      0.90      0.68        20\n",
            "          11       0.13      0.10      0.11        20\n",
            "          12       0.95      1.00      0.98        20\n",
            "          13       0.90      0.90      0.90        20\n",
            "          14       1.00      0.25      0.40        20\n",
            "          15       0.50      0.15      0.23        20\n",
            "          16       0.62      1.00      0.77        20\n",
            "          17       0.93      0.65      0.76        20\n",
            "          18       0.50      0.55      0.52        20\n",
            "          19       0.34      0.55      0.42        20\n",
            "          20       1.00      0.35      0.52        20\n",
            "          21       0.34      0.85      0.49        20\n",
            "          22       0.50      0.30      0.37        20\n",
            "          23       0.39      0.60      0.47        20\n",
            "\n",
            "    accuracy                           0.59       480\n",
            "   macro avg       0.61      0.59      0.56       480\n",
            "weighted avg       0.61      0.59      0.56       480\n",
            "\n"
          ],
          "name": "stdout"
        },
        {
          "output_type": "stream",
          "text": [
            "/usr/local/lib/python3.6/dist-packages/sklearn/metrics/classification.py:1437: UndefinedMetricWarning: Precision and F-score are ill-defined and being set to 0.0 in labels with no predicted samples.\n",
            "  'precision', 'predicted', average, warn_for)\n"
          ],
          "name": "stderr"
        }
      ]
    },
    {
      "cell_type": "code",
      "metadata": {
        "id": "Pzfd_RjyjbsA",
        "colab_type": "code",
        "colab": {}
      },
      "source": [
        "label_encoder = LabelEncoder()\n",
        "values = array(target_names)\n",
        "target_names= label_encoder.fit_transform(values)\n"
      ],
      "execution_count": 0,
      "outputs": []
    },
    {
      "cell_type": "code",
      "metadata": {
        "id": "F7am8Woqy4xo",
        "colab_type": "code",
        "outputId": "c8222d10-7138-4caa-9184-0e73335f0eaa",
        "colab": {
          "base_uri": "https://localhost:8080/",
          "height": 316
        }
      },
      "source": [
        "\n",
        "# plot the training loss and accuracy\n",
        "plt.style.use(\"ggplot\")\n",
        "plt.figure()\n",
        "plt.plot(np.arange(0, EPOCHS), H.history[\"loss\"], label=\"train_loss\")\n",
        "plt.plot(np.arange(0, EPOCHS), H.history[\"val_loss\"], label=\"val_loss\")\n",
        "plt.plot(np.arange(0, EPOCHS), H.history[\"acc\"], label=\"train_acc\")\n",
        "plt.plot(np.arange(0, EPOCHS), H.history[\"val_acc\"], label=\"val_acc\")\n",
        "plt.title(\"Training Loss and Accuracy on Dataset\")\n",
        "plt.xlabel(\"Epoch #\")\n",
        "plt.ylabel(\"Loss/Accuracy\")\n",
        "plt.legend(loc=\"lower left\")\n",
        "#plt.savefig(args[\"plot\"])"
      ],
      "execution_count": 0,
      "outputs": [
        {
          "output_type": "execute_result",
          "data": {
            "text/plain": [
              "<matplotlib.legend.Legend at 0x7ff849474c18>"
            ]
          },
          "metadata": {
            "tags": []
          },
          "execution_count": 113
        },
        {
          "output_type": "display_data",
          "data": {
            "image/png": "[encoded data removed]",
            "text/plain": [
              "<Figure size 432x288 with 1 Axes>"
            ]
          },
          "metadata": {
            "tags": []
          }
        }
      ]
    }
  ]
}